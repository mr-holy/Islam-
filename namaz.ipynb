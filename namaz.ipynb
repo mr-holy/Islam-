{
 "cells": [
  {
   "cell_type": "code",
   "execution_count": 188,
   "metadata": {},
   "outputs": [],
   "source": [
    "#libraries importing\n",
    "import requests as rq\n",
    "from bs4 import BeautifulSoup\n",
    "import re"
   ]
  },
  {
   "cell_type": "code",
   "execution_count": 189,
   "metadata": {},
   "outputs": [],
   "source": [
    "# accessing to the site\n",
    "r = rq.request(url = \"https://www.time.ir/\", method = \"GET\")\n",
    "soup = BeautifulSoup(r.text, \"html.parser\")"
   ]
  },
  {
   "cell_type": "code",
   "execution_count": 190,
   "metadata": {},
   "outputs": [],
   "source": [
    "# extracting data \n",
    "times = soup.find_all(\"span\", id=re.compile(\"ctl00_cphTop_Sampa_Web_View_EphemerisUI_EphemerisByCity12cphTop_3736_\"))\n",
    "names = [\"sobh\", \"toloo\", \"zohr\", \"ghoroob\", \"maghreb\", \"nimeshab\"]\n",
    "for i in range(len(times)):\n",
    "    j = times[i].text\n",
    "    saat = int(j[:2])\n",
    "    daghighe = int(j[5:])\n",
    "    times[i] = \"%.2i:%.2i\"%(saat,daghighe)\n",
    "joft = {}\n",
    "for i in range(len(names)):\n",
    "    joft[names[i]] = times[i]"
   ]
  },
  {
   "cell_type": "code",
   "execution_count": 191,
   "metadata": {},
   "outputs": [],
   "source": [
    "# calculate distance between 2 times\n",
    "def fasele(avali, dovomi):\n",
    "    saat1 = int(avali[:2])\n",
    "    daghighe1 = int(avali[3:])\n",
    "    saat2 = int(dovomi[:2])\n",
    "    daghighe2 = int(dovomi[3:])\n",
    "    delta_saat = 24 - (saat2 - saat1)\n",
    "    delta_daghighe = abs(daghighe2 - daghighe1)\n",
    "    return \"%.2i:%.2i\"%(delta_saat, delta_daghighe)"
   ]
  },
  {
   "cell_type": "code",
   "execution_count": 192,
   "metadata": {},
   "outputs": [],
   "source": [
    "# length of the night (between sunset and sunrise)\n",
    "tool_shab = fasele(joft[\"toloo\"], joft[\"ghoroob\"])\n",
    "dosevom_tool_shab = \"%.2i:%.2i\"%(int(tool_shab[:2])/3*2, int(tool_shab[3:])/3*2)"
   ]
  },
  {
   "cell_type": "code",
   "execution_count": 193,
   "metadata": {},
   "outputs": [],
   "source": [
    "#adding specific time to an hour\n",
    "def jam (hour, meghdar): # meghdar: hh:mm\n",
    "    saat1 = int(hour[:2])\n",
    "    daghighe1 = int(hour[3:])\n",
    "    saat2 = int(meghdar[:2])\n",
    "    daghighe2 = int(meghdar[3:])\n",
    "    h = saat1 + saat2\n",
    "    m = daghighe1 + daghighe2\n",
    "    if m >= 60:\n",
    "        m -= 60\n",
    "        h += 1\n",
    "    if h > 24:\n",
    "        h -= 24\n",
    "    return \"%.2i:%.2i\"%(h, m)"
   ]
  },
  {
   "cell_type": "code",
   "execution_count": 194,
   "metadata": {},
   "outputs": [
    {
     "data": {
      "text/plain": [
       "'02:35'"
      ]
     },
     "execution_count": 194,
     "metadata": {},
     "output_type": "execute_result"
    }
   ],
   "source": [
    "#best time for night pray\n",
    "namaz_shab = jam(joft[\"ghoroob\"], dosevom_tool_shab)\n",
    "namaz_shab"
   ]
  }
 ],
 "metadata": {
  "kernelspec": {
   "display_name": "Python 3.10.0 64-bit",
   "language": "python",
   "name": "python3"
  },
  "language_info": {
   "codemirror_mode": {
    "name": "ipython",
    "version": 3
   },
   "file_extension": ".py",
   "mimetype": "text/x-python",
   "name": "python",
   "nbconvert_exporter": "python",
   "pygments_lexer": "ipython3",
   "version": "3.10.0"
  },
  "orig_nbformat": 4,
  "vscode": {
   "interpreter": {
    "hash": "618cf11574baccf9b5c1c7890dfcca736b0e1b5dbd6475e02b8f8e70a641c49a"
   }
  }
 },
 "nbformat": 4,
 "nbformat_minor": 2
}
